{
 "cells": [
  {
   "cell_type": "code",
   "execution_count": 5,
   "id": "a7f77820-2a1a-4936-be72-f2bed77d5ae7",
   "metadata": {},
   "outputs": [
    {
     "data": {
      "text/plain": [
       "'HloWrd'"
      ]
     },
     "execution_count": 5,
     "metadata": {},
     "output_type": "execute_result"
    }
   ],
   "source": [
    "#Q.1 Discuss string slicing and provide examples ?\n",
    "\n",
    "#String slicing in Python allows you to extract a substring from a string by specifying a start and optionally an end index.\n",
    "#Syntax : string[start:end:step]\n",
    "#Example1 : \n",
    "s = \"Hello World\"\n",
    "s[0:11:2]"
   ]
  },
  {
   "cell_type": "code",
   "execution_count": 8,
   "id": "d1dfb9a6-2198-4da7-be20-e78f2c1c46f1",
   "metadata": {},
   "outputs": [
    {
     "data": {
      "text/plain": [
       "'dlroW olleH'"
      ]
     },
     "execution_count": 8,
     "metadata": {},
     "output_type": "execute_result"
    }
   ],
   "source": [
    "#Example2 :\n",
    "s[::-1]     #Skipping Step Slicing"
   ]
  },
  {
   "cell_type": "code",
   "execution_count": 9,
   "id": "ba4bbf40-139e-4a27-8003-1e2989067e5c",
   "metadata": {},
   "outputs": [
    {
     "data": {
      "text/plain": [
       "'l'"
      ]
     },
     "execution_count": 9,
     "metadata": {},
     "output_type": "execute_result"
    }
   ],
   "source": [
    "#Example3 :\n",
    "s[-2]"
   ]
  },
  {
   "cell_type": "code",
   "execution_count": 10,
   "id": "3ebf5e19-fb0a-4225-ab4a-bf5e1b48bb47",
   "metadata": {},
   "outputs": [
    {
     "ename": "IndexError",
     "evalue": "string index out of range",
     "output_type": "error",
     "traceback": [
      "\u001b[0;31m---------------------------------------------------------------------------\u001b[0m",
      "\u001b[0;31mIndexError\u001b[0m                                Traceback (most recent call last)",
      "Cell \u001b[0;32mIn[10], line 2\u001b[0m\n\u001b[1;32m      1\u001b[0m \u001b[38;5;66;03m#Example4 :\u001b[39;00m\n\u001b[0;32m----> 2\u001b[0m \u001b[43ms\u001b[49m\u001b[43m[\u001b[49m\u001b[38;5;241;43m15\u001b[39;49m\u001b[43m]\u001b[49m      \u001b[38;5;66;03m#Out of range indexing\u001b[39;00m\n",
      "\u001b[0;31mIndexError\u001b[0m: string index out of range"
     ]
    }
   ],
   "source": [
    "#Example4 :\n",
    "s[15]      #Out of range indexing"
   ]
  },
  {
   "cell_type": "code",
   "execution_count": null,
   "id": "f2f0a878-4eae-43b5-8530-d5a32285eec7",
   "metadata": {},
   "outputs": [],
   "source": [
    "#Q2 Explain the key features of lists in Python ?\n",
    "#Solution: Lists are one of the most commonly used data structures in Python, here are some key features of lists in Python:\n",
    "\"\"\"\n",
    "1. Ordered Collection\n",
    "2. Mutable\n",
    "3. Heterogeneous Elements\n",
    "4. Indexing & Slicing\n",
    "5. Iteration\n",
    "\"\"\""
   ]
  },
  {
   "cell_type": "code",
   "execution_count": 11,
   "id": "97fdd771-9c52-4dce-9c3e-8dcc1d9a8762",
   "metadata": {},
   "outputs": [
    {
     "name": "stdout",
     "output_type": "stream",
     "text": [
      "10\n",
      "50\n"
     ]
    }
   ],
   "source": [
    "#Q 03 Describe how to access, modify, and delete elements in a list with examples ?\n",
    "\n",
    "#1 Access elements in a list:\n",
    "#We can access elements in a list using indexing.\n",
    "#Example1 :\n",
    "my_list = [10, 20, 30, 40, 50]\n",
    "print (my_list[0])\n",
    "print (my_list[-1])"
   ]
  },
  {
   "cell_type": "code",
   "execution_count": 12,
   "id": "04933d14-62ab-4422-bef2-b6f2359b3b57",
   "metadata": {},
   "outputs": [
    {
     "name": "stdout",
     "output_type": "stream",
     "text": [
      "[20, 30]\n",
      "[10, 20]\n",
      "[10, 30, 50]\n"
     ]
    }
   ],
   "source": [
    "#Example2 :\n",
    "print (my_list[1:3])\n",
    "print (my_list[:2])\n",
    "print (my_list[::2])"
   ]
  },
  {
   "cell_type": "code",
   "execution_count": 1,
   "id": "51479cb3-9e4f-4b1d-a68f-6a291f950aa4",
   "metadata": {},
   "outputs": [
    {
     "name": "stdout",
     "output_type": "stream",
     "text": [
      "[10, 20, 35, 40, 50]\n"
     ]
    }
   ],
   "source": [
    "#2 Modify elements in a list:\n",
    "#We can modify elements in a list by assigning a new value to a specific index or using slicing to modify multiple elements.\n",
    "#Example1 :\n",
    "my_list = [10, 20, 30, 40, 50]\n",
    "my_list [2] = 35\n",
    "print (my_list)"
   ]
  },
  {
   "cell_type": "code",
   "execution_count": 3,
   "id": "f9fd37e3-fcc1-47e8-b2e2-10c61f661ded",
   "metadata": {},
   "outputs": [
    {
     "name": "stdout",
     "output_type": "stream",
     "text": [
      "[10, 20, 30, 50]\n"
     ]
    }
   ],
   "source": [
    "#3 Delete elements in a list:\n",
    "#We can delete elements from a list using the del statement, the remove() method, or the pop() method.\n",
    "#Example1 :\n",
    "my_list = [10, 20, 30, 40, 50]\n",
    "del my_list[3]\n",
    "print (my_list)"
   ]
  },
  {
   "cell_type": "code",
   "execution_count": 6,
   "id": "9915c85e-6d1c-4662-a142-9b71ac28fd52",
   "metadata": {},
   "outputs": [
    {
     "name": "stdout",
     "output_type": "stream",
     "text": [
      "[10, 20, 40, 50]\n"
     ]
    }
   ],
   "source": [
    "#Example2 :\n",
    "my_list = [10, 20, 30, 40, 50]\n",
    "my_list.remove(30)\n",
    "print (my_list)"
   ]
  },
  {
   "cell_type": "code",
   "execution_count": 7,
   "id": "bd4a1452-3062-4a1f-9338-c72388e25c39",
   "metadata": {},
   "outputs": [
    {
     "name": "stdout",
     "output_type": "stream",
     "text": [
      "50\n",
      "[10, 20, 30, 40]\n"
     ]
    }
   ],
   "source": [
    "my_list = [10, 20, 30, 40, 50]\n",
    "last_element = my_list.pop()\n",
    "print (last_element)\n",
    "print (my_list)"
   ]
  },
  {
   "cell_type": "code",
   "execution_count": null,
   "id": "a8fd3af8-25a5-46f6-9c1b-692c3e0a51ad",
   "metadata": {},
   "outputs": [],
   "source": [
    "#Q 04 Compare and contrast tuples and lists with examples ?\n",
    "\n",
    "#tuples and lists are both used to store collections of items, but they have some important differences.\n",
    "\"\"\"\n",
    "1. Mutability- Lists are Mutable and Tuples are Immutable.\n",
    "2. Syntax- Lists are defined using square brackets [], whereas Tuples are defined using parentheses ().\n",
    "3. Usage- Lists are used when you need a collection of items that may change during the lifetime of the program, whereas Tuples are used when you need a collection of items that should not change, providing a form of data integrity."
   ]
  },
  {
   "cell_type": "code",
   "execution_count": 8,
   "id": "4ef7316d-a63c-4f5c-a944-a7912d767ff7",
   "metadata": {},
   "outputs": [
    {
     "name": "stdout",
     "output_type": "stream",
     "text": [
      "[1, 20, 3, 4]\n"
     ]
    },
    {
     "ename": "TypeError",
     "evalue": "'tuple' object does not support item assignment",
     "output_type": "error",
     "traceback": [
      "\u001b[0;31m---------------------------------------------------------------------------\u001b[0m",
      "\u001b[0;31mTypeError\u001b[0m                                 Traceback (most recent call last)",
      "Cell \u001b[0;32mIn[8], line 11\u001b[0m\n\u001b[1;32m      8\u001b[0m my_list[\u001b[38;5;241m1\u001b[39m] \u001b[38;5;241m=\u001b[39m \u001b[38;5;241m20\u001b[39m\n\u001b[1;32m      9\u001b[0m \u001b[38;5;28mprint\u001b[39m (my_list)\n\u001b[0;32m---> 11\u001b[0m \u001b[43mmy_tuple\u001b[49m\u001b[43m[\u001b[49m\u001b[38;5;241;43m1\u001b[39;49m\u001b[43m]\u001b[49m \u001b[38;5;241m=\u001b[39m \u001b[38;5;241m20\u001b[39m\n\u001b[1;32m     12\u001b[0m \u001b[38;5;28mprint\u001b[39m (my_tuple)\n",
      "\u001b[0;31mTypeError\u001b[0m: 'tuple' object does not support item assignment"
     ]
    }
   ],
   "source": [
    "#Example1 : Modifying Elements\n",
    "#List\n",
    "my_list = [1, 2, 3, 4]\n",
    "\n",
    "#Tuple\n",
    "my_tuple = (1, 2, 3, 4)\n",
    "\n",
    "my_list[1] = 20\n",
    "print (my_list)\n",
    "\n",
    "my_tuple[1] = 20\n",
    "print (my_tuple)"
   ]
  },
  {
   "cell_type": "code",
   "execution_count": 9,
   "id": "20ed70b8-9cc7-4d12-a76f-5d1532c1a0f3",
   "metadata": {},
   "outputs": [
    {
     "name": "stdout",
     "output_type": "stream",
     "text": [
      "[1, 20, 3, 4, 5]\n",
      "[1, 20, 4, 5]\n"
     ]
    },
    {
     "ename": "AttributeError",
     "evalue": "'tuple' object has no attribute 'append'",
     "output_type": "error",
     "traceback": [
      "\u001b[0;31m---------------------------------------------------------------------------\u001b[0m",
      "\u001b[0;31mAttributeError\u001b[0m                            Traceback (most recent call last)",
      "Cell \u001b[0;32mIn[9], line 8\u001b[0m\n\u001b[1;32m      5\u001b[0m my_list\u001b[38;5;241m.\u001b[39mremove(\u001b[38;5;241m3\u001b[39m)\n\u001b[1;32m      6\u001b[0m \u001b[38;5;28mprint\u001b[39m (my_list)\n\u001b[0;32m----> 8\u001b[0m \u001b[43mmy_tuple\u001b[49m\u001b[38;5;241;43m.\u001b[39;49m\u001b[43mappend\u001b[49m(\u001b[38;5;241m5\u001b[39m)\n\u001b[1;32m      9\u001b[0m \u001b[38;5;28mprint\u001b[39m (my_tuple)\n",
      "\u001b[0;31mAttributeError\u001b[0m: 'tuple' object has no attribute 'append'"
     ]
    }
   ],
   "source": [
    "#Example2 :\n",
    "my_list.append(5)\n",
    "print (my_list)\n",
    "\n",
    "my_list.remove(3)\n",
    "print (my_list)\n",
    "\n",
    "my_tuple.append(5)\n",
    "print (my_tuple)"
   ]
  },
  {
   "cell_type": "code",
   "execution_count": 10,
   "id": "7a4b20d1-2d92-4e78-a1d1-4e4268d4a250",
   "metadata": {},
   "outputs": [
    {
     "name": "stdout",
     "output_type": "stream",
     "text": [
      "{1, 2, 3, 4}\n"
     ]
    }
   ],
   "source": [
    "#Q 05 Describe the key features of sets and provide examples of their use ?\n",
    "\n",
    "#Key features of sets in Python:\n",
    "\"\"\"\n",
    "1. Unordered Collection\n",
    "2. No Duplicate Elements\n",
    "3. Mutable\n",
    "4. Efficient Membership Testing\n",
    "\"\"\"\n",
    "#Example1 :\n",
    "my_set = {1, 2, 3, 4}\n",
    "print (my_set)"
   ]
  },
  {
   "cell_type": "code",
   "execution_count": 11,
   "id": "5593ef82-8616-475b-a5dc-205a4ccc10ad",
   "metadata": {},
   "outputs": [
    {
     "name": "stdout",
     "output_type": "stream",
     "text": [
      "{1, 2, 3, 4, 5}\n"
     ]
    }
   ],
   "source": [
    "#Example2 :\n",
    "my_set.add(5)\n",
    "print (my_set)"
   ]
  },
  {
   "cell_type": "code",
   "execution_count": 12,
   "id": "497197e9-7ec4-44cb-80bb-0c7b393c51f6",
   "metadata": {},
   "outputs": [
    {
     "name": "stdout",
     "output_type": "stream",
     "text": [
      "{1, 2, 4, 5}\n",
      "{2, 4, 5}\n"
     ]
    }
   ],
   "source": [
    "#Example3 :\n",
    "my_set.remove(3)\n",
    "print (my_set)\n",
    "\n",
    "my_set.discard(1)\n",
    "print (my_set)"
   ]
  },
  {
   "cell_type": "code",
   "execution_count": 13,
   "id": "55014358-e79a-4b69-a697-96adc6e999aa",
   "metadata": {},
   "outputs": [
    {
     "name": "stdout",
     "output_type": "stream",
     "text": [
      "True\n",
      "False\n"
     ]
    }
   ],
   "source": [
    "#Example4 :\n",
    "print (2 in my_set)\n",
    "print (6 in my_set)"
   ]
  },
  {
   "cell_type": "code",
   "execution_count": 15,
   "id": "4da7241d-c7c1-4662-a839-742a163dcbc5",
   "metadata": {},
   "outputs": [
    {
     "name": "stdout",
     "output_type": "stream",
     "text": [
      "[1, 2, 3, 4, 5]\n"
     ]
    }
   ],
   "source": [
    "#Example5 :\n",
    "my_list = [1, 2, 2, 3, 4, 4, 5]\n",
    "unique_elements = list (set(my_list))\n",
    "print (unique_elements)"
   ]
  },
  {
   "cell_type": "code",
   "execution_count": 16,
   "id": "72864927-2c6d-426c-84df-3d26f3da8759",
   "metadata": {},
   "outputs": [
    {
     "name": "stdout",
     "output_type": "stream",
     "text": [
      "Item is in the set\n"
     ]
    }
   ],
   "source": [
    "#Example6 :\n",
    "my_set = {1, 2, 3, 4, 5, 6, 7}\n",
    "if 1 in my_set:\n",
    "    print (\"Item is in the set\")\n",
    "else: \n",
    "    print (\"Item is not in the set\")"
   ]
  },
  {
   "cell_type": "code",
   "execution_count": 17,
   "id": "c3789a12-a16d-469c-9b90-3245e31ae758",
   "metadata": {},
   "outputs": [
    {
     "name": "stdout",
     "output_type": "stream",
     "text": [
      "('Gauri', 24, 'HR')\n"
     ]
    }
   ],
   "source": [
    "#Q 06 Discuss the use cases of tuples and sets in Python programming ?\n",
    "\n",
    "#Use cases of Tuples:\n",
    "#Example1 :\n",
    "person = (\"Gauri\", 24, \"HR\")\n",
    "name, age, profession = person\n",
    "print (person)"
   ]
  },
  {
   "cell_type": "code",
   "execution_count": 18,
   "id": "ec5e2966-1aae-44a3-8eb8-aac51ce9ee59",
   "metadata": {},
   "outputs": [
    {
     "name": "stdout",
     "output_type": "stream",
     "text": [
      "('Monday', 'Tuesday', 'Wednesday', 'Thursday', 'Friday', 'Saturday', 'Sunday')\n"
     ]
    }
   ],
   "source": [
    "#Example2 :\n",
    "weekdays = (\"Monday\", \"Tuesday\", \"Wednesday\", \"Thursday\", \"Friday\", \"Saturday\", \"Sunday\")\n",
    "print (weekdays)"
   ]
  },
  {
   "cell_type": "code",
   "execution_count": 19,
   "id": "f6d6de14-2f61-45b3-9f53-c5e347533d5e",
   "metadata": {},
   "outputs": [
    {
     "name": "stdout",
     "output_type": "stream",
     "text": [
      "[1, 2, 3, 4, 5]\n"
     ]
    }
   ],
   "source": [
    "#Use cases of Sets:\n",
    "#Example1 :\n",
    "my_list = [1, 2, 2, 3, 4, 4, 5]\n",
    "unique_elements = list(set(my_list))\n",
    "print (unique_elements)"
   ]
  },
  {
   "cell_type": "code",
   "execution_count": 21,
   "id": "73c3e42c-0c6b-4a82-a9c1-f0ebf66fb6ce",
   "metadata": {},
   "outputs": [
    {
     "name": "stdout",
     "output_type": "stream",
     "text": [
      "available\n"
     ]
    }
   ],
   "source": [
    "#Example2 :\n",
    "my_set = {1, 2, 3, 4, 5}\n",
    "if 5 in my_set:\n",
    "    print (\"available\")\n",
    "else:\n",
    "    print (\"not available\")"
   ]
  },
  {
   "cell_type": "code",
   "execution_count": 22,
   "id": "71f1d2c6-53d0-4d05-96a2-30240d9238cc",
   "metadata": {},
   "outputs": [
    {
     "name": "stdout",
     "output_type": "stream",
     "text": [
      "{1, 2, 3, 4, 5}\n",
      "{3}\n",
      "{1, 2}\n",
      "{1, 2, 4, 5}\n"
     ]
    }
   ],
   "source": [
    "#Example3 :\n",
    "set1 = {1, 2, 3}\n",
    "set2 = {3, 4, 5}\n",
    "union_set = set1 | set2\n",
    "intersection_set = set1 & set2\n",
    "difference_set = set1 - set2\n",
    "symmetric_difference_set = set1 ^ set2\n",
    "print (union_set)\n",
    "print (intersection_set)\n",
    "print (difference_set)\n",
    "print (symmetric_difference_set)"
   ]
  },
  {
   "cell_type": "code",
   "execution_count": 23,
   "id": "5b47210b-22b2-4b81-bf59-dae132aa3c50",
   "metadata": {},
   "outputs": [
    {
     "name": "stdout",
     "output_type": "stream",
     "text": [
      "{'cherry', 'apple'}\n"
     ]
    }
   ],
   "source": [
    "#Example4 :\n",
    "all_fruits = {\"apple\", \"banana\", \"cherry\", \"date\"}\n",
    "unwanted_fruits = {\"date\", \"banana\"}\n",
    "filtered_fruits = all_fruits - unwanted_fruits\n",
    "print (filtered_fruits)"
   ]
  },
  {
   "cell_type": "code",
   "execution_count": 24,
   "id": "bdd646fa-052b-4d4a-93fd-ead19e099f20",
   "metadata": {},
   "outputs": [
    {
     "name": "stdout",
     "output_type": "stream",
     "text": [
      "{'name': 'Gauri', 'age': 24}\n"
     ]
    }
   ],
   "source": [
    "#Q7 Describe how to add, modify, and delete items in a dictionary with examples ?\n",
    "\n",
    "#Dictionaries in Python are mutable collections that store items in key-value pairs.\n",
    "#1 Adding items in a Dictionary:\n",
    "my_dict = {}\n",
    "\n",
    "my_dict[\"name\"] = \"Gauri\"\n",
    "my_dict[\"age\"] = 24\n",
    "\n",
    "print (my_dict)"
   ]
  },
  {
   "cell_type": "code",
   "execution_count": 25,
   "id": "0d51a1be-c83a-414c-a4ca-b306ca0d997c",
   "metadata": {},
   "outputs": [
    {
     "name": "stdout",
     "output_type": "stream",
     "text": [
      "{'name': 'Gauri', 'age': 25}\n"
     ]
    }
   ],
   "source": [
    "#2 Modify items in a Dictionary:\n",
    "my_dict = {\"name\": \"Gauri\", \"age\": 24}\n",
    "\n",
    "my_dict[\"age\"] = 25\n",
    "\n",
    "print(my_dict)"
   ]
  },
  {
   "cell_type": "code",
   "execution_count": 26,
   "id": "50730c6d-e59e-4157-b81d-725833674f36",
   "metadata": {},
   "outputs": [
    {
     "name": "stdout",
     "output_type": "stream",
     "text": [
      "{'name': 'Gauri', 'city': 'Pune'}\n"
     ]
    }
   ],
   "source": [
    "#3 Deleting items in a Dictionary:\n",
    "my_dict = {\"name\": \"Gauri\", \"age\": 24, \"city\": \"Pune\"}\n",
    "\n",
    "del my_dict[\"age\"]\n",
    "\n",
    "print(my_dict)"
   ]
  },
  {
   "cell_type": "code",
   "execution_count": 27,
   "id": "a210ff80-f97e-4465-ba05-639e8aacaf7f",
   "metadata": {},
   "outputs": [
    {
     "name": "stdout",
     "output_type": "stream",
     "text": [
      "{'name': 'Gauri', 'age': 24, 'city': 'Pune'}\n"
     ]
    }
   ],
   "source": [
    "#Q 08  Discuss the importance of dictionary keys being immutable and provide emamples ?\n",
    "\n",
    "#in Python, dictionary keys must be immutable, meaning they cannot be changed after they are created.\n",
    "#This immutability is crucial for several reasons:\n",
    "\"\"\"\n",
    "1. Hashability\n",
    "2. Reliability\n",
    "3. Performance\n",
    "\"\"\"\n",
    "#The requirement for dictionary keys to be immutable ensures that:\n",
    "\"\"\"\n",
    "1. Keys remain consistent and reliable, providing a stable reference for accessing values.\n",
    "2. The hash table mechanism used by dictionaries works correctly, ensuring efficient data retrieval.\n",
    "3. The performance of dictionary operations remains optimized.\n",
    "\"\"\"\n",
    "#Examples of Immutable Keys:\n",
    "#1 Using Strings as keys:\n",
    "my_dict = {\"name\": \"Gauri\", \"age\": 24, \"city\": \"Pune\"}\n",
    "print (my_dict)"
   ]
  },
  {
   "cell_type": "code",
   "execution_count": 28,
   "id": "51af2ee9-5d4f-4fd5-a801-c318a1760f0f",
   "metadata": {},
   "outputs": [
    {
     "name": "stdout",
     "output_type": "stream",
     "text": [
      "{1: 'one', 2: 'two', 3: 'three'}\n"
     ]
    }
   ],
   "source": [
    "#2 Using Intergers as keys:\n",
    "my_new_dict = {1: 'one', 2: 'two', 3: 'three'}\n",
    "print (my_new_dict)"
   ]
  },
  {
   "cell_type": "code",
   "execution_count": 29,
   "id": "81e25542-1ba5-47af-b467-7e2ad28fd063",
   "metadata": {},
   "outputs": [
    {
     "name": "stdout",
     "output_type": "stream",
     "text": [
      "{(1, 2): 'point A', (3, 4): 'point B'}\n"
     ]
    }
   ],
   "source": [
    "#3 Using Tuples as keys:\n",
    "my_tuples = {(1, 2): 'point A', (3, 4): 'point B'}\n",
    "print (my_tuples)"
   ]
  }
 ],
 "metadata": {
  "kernelspec": {
   "display_name": "Python 3 (ipykernel)",
   "language": "python",
   "name": "python3"
  },
  "language_info": {
   "codemirror_mode": {
    "name": "ipython",
    "version": 3
   },
   "file_extension": ".py",
   "mimetype": "text/x-python",
   "name": "python",
   "nbconvert_exporter": "python",
   "pygments_lexer": "ipython3",
   "version": "3.10.8"
  }
 },
 "nbformat": 4,
 "nbformat_minor": 5
}
